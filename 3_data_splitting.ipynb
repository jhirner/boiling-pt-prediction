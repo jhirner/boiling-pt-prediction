{
 "cells": [
  {
   "cell_type": "markdown",
   "metadata": {},
   "source": [
    "# 3) Data Splitting\n",
    "\n",
    "In this notebook, we'll split the complete data set into training and test sets, ensuring that the two accurately represent the complete set.\n",
    "\n",
    "*Note:* For copyright reasons, the database and exported CSV files are not included in this repository."
   ]
  },
  {
   "cell_type": "markdown",
   "metadata": {},
   "source": [
    "## Import the required modules."
   ]
  },
  {
   "cell_type": "code",
   "execution_count": 1,
   "metadata": {},
   "outputs": [],
   "source": [
    "import dataset\n",
    "import pandas as pd"
   ]
  },
  {
   "cell_type": "markdown",
   "metadata": {},
   "source": [
    "## Import the data."
   ]
  },
  {
   "cell_type": "code",
   "execution_count": 2,
   "metadata": {},
   "outputs": [],
   "source": [
    "db = dataset.connect(\"sqlite:///physical_properties.db\")"
   ]
  },
  {
   "cell_type": "code",
   "execution_count": 3,
   "metadata": {},
   "outputs": [
    {
     "data": {
      "text/html": [
       "<div>\n",
       "<style scoped>\n",
       "    .dataframe tbody tr th:only-of-type {\n",
       "        vertical-align: middle;\n",
       "    }\n",
       "\n",
       "    .dataframe tbody tr th {\n",
       "        vertical-align: top;\n",
       "    }\n",
       "\n",
       "    .dataframe thead th {\n",
       "        text-align: right;\n",
       "    }\n",
       "</style>\n",
       "<table border=\"1\" class=\"dataframe\">\n",
       "  <thead>\n",
       "    <tr style=\"text-align: right;\">\n",
       "      <th></th>\n",
       "      <th>Formula</th>\n",
       "      <th>Name</th>\n",
       "      <th>CAS No</th>\n",
       "      <th>Boil Pt (K)</th>\n",
       "      <th>SMILES</th>\n",
       "      <th>InChI</th>\n",
       "    </tr>\n",
       "  </thead>\n",
       "  <tbody>\n",
       "    <tr>\n",
       "      <th>0</th>\n",
       "      <td>C9H18O</td>\n",
       "      <td>7-methyl-7-octen-1-ol</td>\n",
       "      <td>---</td>\n",
       "      <td>498.00</td>\n",
       "      <td>CC(=C)CCCCCCO</td>\n",
       "      <td>InChI=1/C9H18O/c1-9(2)7-5-3-4-6-8-10/h10H,1,3-...</td>\n",
       "    </tr>\n",
       "    <tr>\n",
       "      <th>1</th>\n",
       "      <td>C9H18O</td>\n",
       "      <td>cis-2-methyl-3-octen-2-ol</td>\n",
       "      <td>18521-07-8</td>\n",
       "      <td>498.00</td>\n",
       "      <td>CCCC\\C=C/C(C)(C)O</td>\n",
       "      <td>InChI=1/C9H18O/c1-4-5-6-7-8-9(2,3)10/h7-8,10H,...</td>\n",
       "    </tr>\n",
       "    <tr>\n",
       "      <th>2</th>\n",
       "      <td>C9H18O</td>\n",
       "      <td>3-methyl-1-octen-3-ol</td>\n",
       "      <td>24089-00-7</td>\n",
       "      <td>498.00</td>\n",
       "      <td>CCCCCC(C)(O)C=C</td>\n",
       "      <td>InChI=1/C9H18O/c1-4-6-7-8-9(3,10)5-2/h5,10H,2,...</td>\n",
       "    </tr>\n",
       "    <tr>\n",
       "      <th>3</th>\n",
       "      <td>C9H18O</td>\n",
       "      <td>3-methyl-4-octen-3-ol</td>\n",
       "      <td>90676-55-4</td>\n",
       "      <td>498.00</td>\n",
       "      <td>CCCC=CC(C)(O)CC</td>\n",
       "      <td>InChI=1/C9H18O/c1-4-6-7-8-9(3,10)5-2/h7-8,10H,...</td>\n",
       "    </tr>\n",
       "    <tr>\n",
       "      <th>4</th>\n",
       "      <td>C9H18O</td>\n",
       "      <td>4-methyl-1-octen-4-ol</td>\n",
       "      <td>62108-06-9</td>\n",
       "      <td>498.00</td>\n",
       "      <td>CCCCC(C)(O)CC=C</td>\n",
       "      <td>InChI=1/C9H18O/c1-4-6-8-9(3,10)7-5-2/h5,10H,2,...</td>\n",
       "    </tr>\n",
       "    <tr>\n",
       "      <th>...</th>\n",
       "      <td>...</td>\n",
       "      <td>...</td>\n",
       "      <td>...</td>\n",
       "      <td>...</td>\n",
       "      <td>...</td>\n",
       "      <td>...</td>\n",
       "    </tr>\n",
       "    <tr>\n",
       "      <th>8769</th>\n",
       "      <td>C27H54</td>\n",
       "      <td>11-(cyclopentylmethyl)-uneicosane</td>\n",
       "      <td>6703-79-3</td>\n",
       "      <td>694.90</td>\n",
       "      <td>CCCCCCCCCCC(CCCCCCCCCC)CC1CCCC1</td>\n",
       "      <td>InChI=1/C27H54/c1-3-5-7-9-11-13-15-17-21-26(25...</td>\n",
       "    </tr>\n",
       "    <tr>\n",
       "      <th>8770</th>\n",
       "      <td>C27H57N</td>\n",
       "      <td>trinonylamine</td>\n",
       "      <td>2044-22-6</td>\n",
       "      <td>671.15</td>\n",
       "      <td>CCCCCCCCCN(CCCCCCCCC)CCCCCCCCC</td>\n",
       "      <td>InChI=1/C27H57N/c1-4-7-10-13-16-19-22-25-28(26...</td>\n",
       "    </tr>\n",
       "    <tr>\n",
       "      <th>8771</th>\n",
       "      <td>C28H58</td>\n",
       "      <td>7-hexyldocosane</td>\n",
       "      <td>55373-86-9</td>\n",
       "      <td>690.50</td>\n",
       "      <td>CCCCCCCCCCCCCCCC(CCCCCC)CCCCCC</td>\n",
       "      <td>InChI=1/C28H58/c1-4-7-10-13-14-15-16-17-18-19-...</td>\n",
       "    </tr>\n",
       "    <tr>\n",
       "      <th>8772</th>\n",
       "      <td>C28H58</td>\n",
       "      <td>9-octyleicosane</td>\n",
       "      <td>13475-77-9</td>\n",
       "      <td>690.50</td>\n",
       "      <td>CCCCCCCCCCCC(CCCCCCCC)CCCCCCCC</td>\n",
       "      <td>InChI=1/C28H58/c1-4-7-10-13-16-17-18-21-24-27-...</td>\n",
       "    </tr>\n",
       "    <tr>\n",
       "      <th>8773</th>\n",
       "      <td>C28H58</td>\n",
       "      <td>2,2,4,10,12,12-hexamethyl-7-(3,5,5-trimethylhe...</td>\n",
       "      <td>3035-75-4</td>\n",
       "      <td>690.50</td>\n",
       "      <td>CC(CCC(CCC(C)CC(C)(C)C)CCC(C)CC(C)(C)C)CC(C)(C)C</td>\n",
       "      <td>InChI=1/C28H58/c1-22(19-26(4,5)6)13-16-25(17-1...</td>\n",
       "    </tr>\n",
       "  </tbody>\n",
       "</table>\n",
       "<p>8774 rows × 6 columns</p>\n",
       "</div>"
      ],
      "text/plain": [
       "      Formula                                               Name      CAS No  \\\n",
       "0      C9H18O                              7-methyl-7-octen-1-ol         ---   \n",
       "1      C9H18O                          cis-2-methyl-3-octen-2-ol  18521-07-8   \n",
       "2      C9H18O                              3-methyl-1-octen-3-ol  24089-00-7   \n",
       "3      C9H18O                              3-methyl-4-octen-3-ol  90676-55-4   \n",
       "4      C9H18O                              4-methyl-1-octen-4-ol  62108-06-9   \n",
       "...       ...                                                ...         ...   \n",
       "8769   C27H54                  11-(cyclopentylmethyl)-uneicosane   6703-79-3   \n",
       "8770  C27H57N                                      trinonylamine   2044-22-6   \n",
       "8771   C28H58                                    7-hexyldocosane  55373-86-9   \n",
       "8772   C28H58                                    9-octyleicosane  13475-77-9   \n",
       "8773   C28H58  2,2,4,10,12,12-hexamethyl-7-(3,5,5-trimethylhe...   3035-75-4   \n",
       "\n",
       "      Boil Pt (K)                                            SMILES  \\\n",
       "0          498.00                                     CC(=C)CCCCCCO   \n",
       "1          498.00                                 CCCC\\C=C/C(C)(C)O   \n",
       "2          498.00                                   CCCCCC(C)(O)C=C   \n",
       "3          498.00                                   CCCC=CC(C)(O)CC   \n",
       "4          498.00                                   CCCCC(C)(O)CC=C   \n",
       "...           ...                                               ...   \n",
       "8769       694.90                   CCCCCCCCCCC(CCCCCCCCCC)CC1CCCC1   \n",
       "8770       671.15                    CCCCCCCCCN(CCCCCCCCC)CCCCCCCCC   \n",
       "8771       690.50                    CCCCCCCCCCCCCCCC(CCCCCC)CCCCCC   \n",
       "8772       690.50                    CCCCCCCCCCCC(CCCCCCCC)CCCCCCCC   \n",
       "8773       690.50  CC(CCC(CCC(C)CC(C)(C)C)CCC(C)CC(C)(C)C)CC(C)(C)C   \n",
       "\n",
       "                                                  InChI  \n",
       "0     InChI=1/C9H18O/c1-9(2)7-5-3-4-6-8-10/h10H,1,3-...  \n",
       "1     InChI=1/C9H18O/c1-4-5-6-7-8-9(2,3)10/h7-8,10H,...  \n",
       "2     InChI=1/C9H18O/c1-4-6-7-8-9(3,10)5-2/h5,10H,2,...  \n",
       "3     InChI=1/C9H18O/c1-4-6-7-8-9(3,10)5-2/h7-8,10H,...  \n",
       "4     InChI=1/C9H18O/c1-4-6-8-9(3,10)7-5-2/h5,10H,2,...  \n",
       "...                                                 ...  \n",
       "8769  InChI=1/C27H54/c1-3-5-7-9-11-13-15-17-21-26(25...  \n",
       "8770  InChI=1/C27H57N/c1-4-7-10-13-16-19-22-25-28(26...  \n",
       "8771  InChI=1/C28H58/c1-4-7-10-13-14-15-16-17-18-19-...  \n",
       "8772  InChI=1/C28H58/c1-4-7-10-13-16-17-18-21-24-27-...  \n",
       "8773  InChI=1/C28H58/c1-22(19-26(4,5)6)13-16-25(17-1...  \n",
       "\n",
       "[8774 rows x 6 columns]"
      ]
     },
     "execution_count": 3,
     "metadata": {},
     "output_type": "execute_result"
    }
   ],
   "source": [
    "query_terms = \"\"\"\n",
    "                SELECT Formula, Name, [CAS No], [Boil Pt (K)], SMILES, InChI\n",
    "                FROM yaws_w_structures\n",
    "                WHERE [Boil Pt (K)] <= 700 AND [Boil Pt (code)] <= 2 AND NOT (\n",
    "                    SMILES LIKE '%F%' OR\n",
    "                    SMILES LIKE '%Cl%' OR\n",
    "                    SMILES LIKE '%Br%' OR\n",
    "                    SMILES LIKE '%I%' OR\n",
    "                    SMILES LIKE '%S%' OR\n",
    "                    SMILES LIKE '%P')\n",
    "                \"\"\"\n",
    "bp_data = pd.DataFrame(db.query(query_terms))\n",
    "bp_data"
   ]
  },
  {
   "cell_type": "markdown",
   "metadata": {},
   "source": [
    "## Check for missing values\n",
    "Let's review the data set for missing values. I want to manually read *all* of the entries with missing data to ensure that, for example, a particular functional group is frequently omitted."
   ]
  },
  {
   "cell_type": "code",
   "execution_count": 4,
   "metadata": {},
   "outputs": [],
   "source": [
    "pd.set_option('display.max_rows', None)"
   ]
  },
  {
   "cell_type": "code",
   "execution_count": 5,
   "metadata": {},
   "outputs": [
    {
     "data": {
      "text/html": [
       "<div>\n",
       "<style scoped>\n",
       "    .dataframe tbody tr th:only-of-type {\n",
       "        vertical-align: middle;\n",
       "    }\n",
       "\n",
       "    .dataframe tbody tr th {\n",
       "        vertical-align: top;\n",
       "    }\n",
       "\n",
       "    .dataframe thead th {\n",
       "        text-align: right;\n",
       "    }\n",
       "</style>\n",
       "<table border=\"1\" class=\"dataframe\">\n",
       "  <thead>\n",
       "    <tr style=\"text-align: right;\">\n",
       "      <th></th>\n",
       "      <th>Formula</th>\n",
       "      <th>Name</th>\n",
       "      <th>CAS No</th>\n",
       "      <th>Boil Pt (K)</th>\n",
       "      <th>SMILES</th>\n",
       "      <th>InChI</th>\n",
       "    </tr>\n",
       "  </thead>\n",
       "  <tbody>\n",
       "    <tr>\n",
       "      <th>1375</th>\n",
       "      <td>C10H22O</td>\n",
       "      <td>2-isopropoxy-heptane</td>\n",
       "      <td>---</td>\n",
       "      <td>456.55</td>\n",
       "      <td>CCCCCC(C)OC(C)C</td>\n",
       "      <td>None</td>\n",
       "    </tr>\n",
       "  </tbody>\n",
       "</table>\n",
       "</div>"
      ],
      "text/plain": [
       "      Formula                  Name CAS No  Boil Pt (K)           SMILES InChI\n",
       "1375  C10H22O  2-isopropoxy-heptane    ---       456.55  CCCCCC(C)OC(C)C  None"
      ]
     },
     "execution_count": 5,
     "metadata": {},
     "output_type": "execute_result"
    }
   ],
   "source": [
    "bp_data[bp_data.isna().any(axis = 1)]"
   ]
  },
  {
   "cell_type": "code",
   "execution_count": 6,
   "metadata": {},
   "outputs": [],
   "source": [
    "# Restore the default number of visible rows before moving on.\n",
    "pd.set_option('display.max_rows', 10)"
   ]
  },
  {
   "cell_type": "markdown",
   "metadata": {},
   "source": [
    "There is only one row missing data. It is safe simply to drop that data point, as we won't be preferentially excluding a particular class of molecules."
   ]
  },
  {
   "cell_type": "code",
   "execution_count": 7,
   "metadata": {},
   "outputs": [],
   "source": [
    "bp_data = bp_data.dropna(how = \"any\")"
   ]
  },
  {
   "cell_type": "markdown",
   "metadata": {},
   "source": [
    "## Create training and test sets."
   ]
  },
  {
   "cell_type": "markdown",
   "metadata": {},
   "source": [
    "To do this, we'll use `scikit-learn`'s function, `train_test_split()`. The data sets will contain only the structural code and the boiling point, not any of the functional group counts or other descriptors shown in the EDA."
   ]
  },
  {
   "cell_type": "code",
   "execution_count": 8,
   "metadata": {},
   "outputs": [],
   "source": [
    "# Shuffle the data entries three times, just for good measure.\n",
    "for count in range(1, 4, 1):\n",
    "    bp_data = bp_data.sample(frac = 1).reset_index(drop = True)"
   ]
  },
  {
   "cell_type": "code",
   "execution_count": 9,
   "metadata": {},
   "outputs": [
    {
     "data": {
      "text/html": [
       "<div>\n",
       "<style scoped>\n",
       "    .dataframe tbody tr th:only-of-type {\n",
       "        vertical-align: middle;\n",
       "    }\n",
       "\n",
       "    .dataframe tbody tr th {\n",
       "        vertical-align: top;\n",
       "    }\n",
       "\n",
       "    .dataframe thead th {\n",
       "        text-align: right;\n",
       "    }\n",
       "</style>\n",
       "<table border=\"1\" class=\"dataframe\">\n",
       "  <thead>\n",
       "    <tr style=\"text-align: right;\">\n",
       "      <th></th>\n",
       "      <th>Formula</th>\n",
       "      <th>Name</th>\n",
       "      <th>CAS No</th>\n",
       "      <th>Boil Pt (K)</th>\n",
       "      <th>SMILES</th>\n",
       "      <th>InChI</th>\n",
       "    </tr>\n",
       "  </thead>\n",
       "  <tbody>\n",
       "    <tr>\n",
       "      <th>0</th>\n",
       "      <td>C17H32</td>\n",
       "      <td>9-methyl-2-hexadecyne</td>\n",
       "      <td>---</td>\n",
       "      <td>572.06</td>\n",
       "      <td>CCCCCCCC(C)CCCCCC#CC</td>\n",
       "      <td>InChI=1/C17H32/c1-4-6-8-10-12-14-16-17(3)15-13...</td>\n",
       "    </tr>\n",
       "    <tr>\n",
       "      <th>1</th>\n",
       "      <td>C20H40</td>\n",
       "      <td>8-methyl-1-nonadecene</td>\n",
       "      <td>---</td>\n",
       "      <td>606.39</td>\n",
       "      <td>CCCCCCCCCCCC(C)CCCCCC=C</td>\n",
       "      <td>InChI=1/C20H40/c1-4-6-8-10-11-12-13-15-17-19-2...</td>\n",
       "    </tr>\n",
       "    <tr>\n",
       "      <th>2</th>\n",
       "      <td>C17H34O</td>\n",
       "      <td>2,4-dimethylpentadecanal</td>\n",
       "      <td>---</td>\n",
       "      <td>600.82</td>\n",
       "      <td>CCCCCCCCCCCC(C)CC(C)C=O</td>\n",
       "      <td>InChI=1/C17H34O/c1-4-5-6-7-8-9-10-11-12-13-16(...</td>\n",
       "    </tr>\n",
       "    <tr>\n",
       "      <th>3</th>\n",
       "      <td></td>\n",
       "      <td>2,3,6-trimethylnaphthalene</td>\n",
       "      <td>829-26-5</td>\n",
       "      <td>536.70</td>\n",
       "      <td>Cc1ccc2cc(C)c(C)cc2c1</td>\n",
       "      <td>InChI=1/C13H14/c1-9-4-5-12-7-10(2)11(3)8-13(12...</td>\n",
       "    </tr>\n",
       "    <tr>\n",
       "      <th>4</th>\n",
       "      <td></td>\n",
       "      <td>tetradecyl acetate</td>\n",
       "      <td>638-59-5</td>\n",
       "      <td>572.82</td>\n",
       "      <td>CCCCCCCCCCCCCCOC(C)=O</td>\n",
       "      <td>InChI=1/C16H32O2/c1-3-4-5-6-7-8-9-10-11-12-13-...</td>\n",
       "    </tr>\n",
       "  </tbody>\n",
       "</table>\n",
       "</div>"
      ],
      "text/plain": [
       "   Formula                        Name    CAS No  Boil Pt (K)  \\\n",
       "0   C17H32       9-methyl-2-hexadecyne       ---       572.06   \n",
       "1   C20H40       8-methyl-1-nonadecene       ---       606.39   \n",
       "2  C17H34O    2,4-dimethylpentadecanal       ---       600.82   \n",
       "3           2,3,6-trimethylnaphthalene  829-26-5       536.70   \n",
       "4                   tetradecyl acetate  638-59-5       572.82   \n",
       "\n",
       "                    SMILES                                              InChI  \n",
       "0     CCCCCCCC(C)CCCCCC#CC  InChI=1/C17H32/c1-4-6-8-10-12-14-16-17(3)15-13...  \n",
       "1  CCCCCCCCCCCC(C)CCCCCC=C  InChI=1/C20H40/c1-4-6-8-10-11-12-13-15-17-19-2...  \n",
       "2  CCCCCCCCCCCC(C)CC(C)C=O  InChI=1/C17H34O/c1-4-5-6-7-8-9-10-11-12-13-16(...  \n",
       "3    Cc1ccc2cc(C)c(C)cc2c1  InChI=1/C13H14/c1-9-4-5-12-7-10(2)11(3)8-13(12...  \n",
       "4    CCCCCCCCCCCCCCOC(C)=O  InChI=1/C16H32O2/c1-3-4-5-6-7-8-9-10-11-12-13-...  "
      ]
     },
     "execution_count": 9,
     "metadata": {},
     "output_type": "execute_result"
    }
   ],
   "source": [
    "bp_data.head()"
   ]
  },
  {
   "cell_type": "code",
   "execution_count": 10,
   "metadata": {},
   "outputs": [],
   "source": [
    "from sklearn.model_selection import train_test_split"
   ]
  },
  {
   "cell_type": "code",
   "execution_count": 11,
   "metadata": {},
   "outputs": [],
   "source": [
    "x = bp_data[\"SMILES\"]\n",
    "y = bp_data[\"Boil Pt (K)\"]"
   ]
  },
  {
   "cell_type": "code",
   "execution_count": 12,
   "metadata": {},
   "outputs": [],
   "source": [
    "# Split the data set into training and (test + validation) sets\n",
    "x_train, x_test_val, y_train, y_test_val = train_test_split(x, y, train_size = 0.7, random_state = 7)"
   ]
  },
  {
   "cell_type": "markdown",
   "metadata": {},
   "source": [
    "Now we have the data set divided as follows: 70% training, 30% combined (test + validation).\n",
    "\n",
    "Let's split the combined (test + validation) sets again with a split ratio of 0.5. This means that, ultimately, the entire data set will be used as follows:  70% training, 15% validation, and 15% test."
   ]
  },
  {
   "cell_type": "code",
   "execution_count": 13,
   "metadata": {},
   "outputs": [],
   "source": [
    "# Split the (test + validation) set again to give separate test and validation sets.\n",
    "x_test, x_val, y_test, y_val = train_test_split(x_test_val, y_test_val, train_size = 0.5)"
   ]
  },
  {
   "cell_type": "markdown",
   "metadata": {},
   "source": [
    "## Confirm uniform sampling between training, test, and validation sets."
   ]
  },
  {
   "cell_type": "markdown",
   "metadata": {},
   "source": [
    "First, let's take a look at the distribution visually via a histogram:"
   ]
  },
  {
   "cell_type": "code",
   "execution_count": 14,
   "metadata": {},
   "outputs": [
    {
     "data": {
      "image/png": "[encoded data removed]",
      "text/plain": [
       "<Figure size 432x288 with 1 Axes>"
      ]
     },
     "metadata": {
      "needs_background": "light"
     },
     "output_type": "display_data"
    }
   ],
   "source": [
    "for source in [bp_data[\"Boil Pt (K)\"], y_train, y_val, y_test]:\n",
    "    hist = source.plot(kind = \"hist\", bins = 100, alpha = 0.5)"
   ]
  },
  {
   "cell_type": "markdown",
   "metadata": {},
   "source": [
    "Qualitatively, these histograms suggest that each data subset is a fairly representative sample of the overall data set.\n",
    "\n",
    "Now, let's take a look at the statistics for each:"
   ]
  },
  {
   "cell_type": "code",
   "execution_count": 15,
   "metadata": {},
   "outputs": [
    {
     "name": "stdout",
     "output_type": "stream",
     "text": [
      "count    8773.000000\n",
      "mean      549.005626\n",
      "std        61.578026\n",
      "min       395.440000\n",
      "25%       503.480000\n",
      "50%       549.000000\n",
      "75%       590.380000\n",
      "max       699.180000\n",
      "Name: Boil Pt (K), dtype: float64\n",
      "\n",
      "count    6141.000000\n",
      "mean      549.402488\n",
      "std        61.640512\n",
      "min       403.810000\n",
      "25%       503.110000\n",
      "50%       549.000000\n",
      "75%       590.380000\n",
      "max       699.180000\n",
      "Name: Boil Pt (K), dtype: float64\n",
      "\n",
      "count    1316.000000\n",
      "mean      548.425752\n",
      "std        61.997495\n",
      "min       397.240000\n",
      "25%       505.362500\n",
      "50%       549.000000\n",
      "75%       590.380000\n",
      "max       699.180000\n",
      "Name: Boil Pt (K), dtype: float64\n",
      "\n",
      "count    1316.000000\n",
      "mean      547.733579\n",
      "std        60.886308\n",
      "min       395.440000\n",
      "25%       505.790000\n",
      "50%       549.000000\n",
      "75%       586.300000\n",
      "max       692.990000\n",
      "Name: Boil Pt (K), dtype: float64\n",
      "\n"
     ]
    }
   ],
   "source": [
    "for dataset in [bp_data[\"Boil Pt (K)\"], y_train, y_val, y_test]:\n",
    "    print(dataset.describe())\n",
    "    print(\"\")"
   ]
  },
  {
   "cell_type": "markdown",
   "metadata": {},
   "source": [
    "Looks good! Having verified that the training, test, and validation sets are very similar to both one another and the original full data set, we can move on."
   ]
  },
  {
   "cell_type": "markdown",
   "metadata": {},
   "source": [
    "## Wrapping up."
   ]
  },
  {
   "cell_type": "markdown",
   "metadata": {},
   "source": [
    "We're ready to save the data sets for future use."
   ]
  },
  {
   "cell_type": "code",
   "execution_count": 16,
   "metadata": {},
   "outputs": [],
   "source": [
    "for dataset in [\"x_train\", \"y_train\", \"x_val\", \"y_val\", \"x_test\", \"y_test\"]:\n",
    "    exec(\"{}.to_csv('data/{}-CHNO.csv', index = False)\".format(dataset, dataset))"
   ]
  }
 ],
 "metadata": {
  "kernelspec": {
   "display_name": "chem",
   "language": "python",
   "name": "chem"
  },
  "language_info": {
   "codemirror_mode": {
    "name": "ipython",
    "version": 3
   },
   "file_extension": ".py",
   "mimetype": "text/x-python",
   "name": "python",
   "nbconvert_exporter": "python",
   "pygments_lexer": "ipython3",
   "version": "3.9.6"
  }
 },
 "nbformat": 4,
 "nbformat_minor": 4
}
