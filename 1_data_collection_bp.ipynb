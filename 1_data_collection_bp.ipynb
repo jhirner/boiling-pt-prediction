{
 "cells": [
  {
   "cell_type": "markdown",
   "metadata": {},
   "source": [
    "# 1) Data Collection: Scraping Boiling Point Data from a PDF"
   ]
  },
  {
   "cell_type": "markdown",
   "metadata": {},
   "source": [
    "In this notebook, we'll scrape boiling point data from a PDF copy of [The Yaws Handbook](https://www.sciencedirect.com/book/9780128008348/the-yaws-handbook-of-physical-properties-for-hydrocarbons-and-chemicals). The data tables also contain a wide variety of other chemical information. A quick inspection reveals that the tables of interest are located on pages 3-683.\n",
    "\n",
    "*Note:* For copyright reasons, the PDF is not included in this repository.\n",
    "\n",
    "*Note:* In this data source, the editor's confidence in the tabulated data is indicated with a code (e.g.: \"Boiling Point Code\"), which is a digit from 1-3. A value of 1 indicates the highest confidence in the reported value, while a value of 3 is a \"rough approximation only.\" After collecting this data, we'll need to filter out the low-confidence data."
   ]
  },
  {
   "cell_type": "markdown",
   "metadata": {},
   "source": [
    "## Import the necessary modules."
   ]
  },
  {
   "cell_type": "code",
   "execution_count": 1,
   "metadata": {},
   "outputs": [],
   "source": [
    "import camelot # Reads PDF data tables\n",
    "import pandas as pd # For basic data cleaning\n",
    "from sqlalchemy import create_engine # Easy access to SQL database"
   ]
  },
  {
   "cell_type": "markdown",
   "metadata": {},
   "source": [
    "## Trial PDF data table parsing with Camelot.\n",
    "...before turning it loose on all 680 pages"
   ]
  },
  {
   "cell_type": "code",
   "execution_count": 3,
   "metadata": {},
   "outputs": [],
   "source": [
    "trial_table = camelot.read_pdf(\"yaws2015.pdf\", pages = \"3\")"
   ]
  },
  {
   "cell_type": "code",
   "execution_count": 4,
   "metadata": {},
   "outputs": [
    {
     "data": {
      "text/plain": [
       "camelot.core.TableList"
      ]
     },
     "execution_count": 4,
     "metadata": {},
     "output_type": "execute_result"
    }
   ],
   "source": [
    "type(trial_table)"
   ]
  },
  {
   "cell_type": "markdown",
   "metadata": {},
   "source": [
    "Camelot returns a TableLlist object, with one entry for each table detected."
   ]
  },
  {
   "cell_type": "code",
   "execution_count": 5,
   "metadata": {},
   "outputs": [
    {
     "data": {
      "text/plain": [
       "1"
      ]
     },
     "execution_count": 5,
     "metadata": {},
     "output_type": "execute_result"
    }
   ],
   "source": [
    "len(trial_table)"
   ]
  },
  {
   "cell_type": "code",
   "execution_count": 6,
   "metadata": {},
   "outputs": [
    {
     "data": {
      "text/html": [
       "<div>\n",
       "<style scoped>\n",
       "    .dataframe tbody tr th:only-of-type {\n",
       "        vertical-align: middle;\n",
       "    }\n",
       "\n",
       "    .dataframe tbody tr th {\n",
       "        vertical-align: top;\n",
       "    }\n",
       "\n",
       "    .dataframe thead th {\n",
       "        text-align: right;\n",
       "    }\n",
       "</style>\n",
       "<table border=\"1\" class=\"dataframe\">\n",
       "  <thead>\n",
       "    <tr style=\"text-align: right;\">\n",
       "      <th></th>\n",
       "      <th>0</th>\n",
       "      <th>1</th>\n",
       "      <th>2</th>\n",
       "      <th>3</th>\n",
       "      <th>4</th>\n",
       "      <th>5</th>\n",
       "      <th>6</th>\n",
       "      <th>7</th>\n",
       "      <th>8</th>\n",
       "      <th>9</th>\n",
       "      <th>10</th>\n",
       "      <th>11</th>\n",
       "      <th>12</th>\n",
       "      <th>13</th>\n",
       "      <th>14</th>\n",
       "    </tr>\n",
       "  </thead>\n",
       "  <tbody>\n",
       "    <tr>\n",
       "      <th>0</th>\n",
       "      <td></td>\n",
       "      <td></td>\n",
       "      <td></td>\n",
       "      <td></td>\n",
       "      <td>Mol Wt</td>\n",
       "      <td>Freezing Point</td>\n",
       "      <td></td>\n",
       "      <td>Boiling Point</td>\n",
       "      <td></td>\n",
       "      <td>Density</td>\n",
       "      <td></td>\n",
       "      <td></td>\n",
       "      <td>Refractive Index</td>\n",
       "      <td></td>\n",
       "      <td></td>\n",
       "    </tr>\n",
       "    <tr>\n",
       "      <th>1</th>\n",
       "      <td>NO</td>\n",
       "      <td>FORMULA</td>\n",
       "      <td>NAME</td>\n",
       "      <td>CAS No</td>\n",
       "      <td>g/mol</td>\n",
       "      <td>TF, K</td>\n",
       "      <td>code</td>\n",
       "      <td>TB, K</td>\n",
       "      <td>code</td>\n",
       "      <td>T, C</td>\n",
       "      <td>g/cm3</td>\n",
       "      <td>code</td>\n",
       "      <td>T, C</td>\n",
       "      <td>nD</td>\n",
       "      <td>code</td>\n",
       "    </tr>\n",
       "    <tr>\n",
       "      <th>2</th>\n",
       "      <td>1</td>\n",
       "      <td>CAgF3O3S</td>\n",
       "      <td>silver trifluoromethanesulfonate</td>\n",
       "      <td>2923-28-6</td>\n",
       "      <td>256.937</td>\n",
       "      <td>629.15</td>\n",
       "      <td>1</td>\n",
       "      <td>---</td>\n",
       "      <td>---</td>\n",
       "      <td>---</td>\n",
       "      <td>---</td>\n",
       "      <td>---</td>\n",
       "      <td>---</td>\n",
       "      <td>---</td>\n",
       "      <td>---</td>\n",
       "    </tr>\n",
       "    <tr>\n",
       "      <th>3</th>\n",
       "      <td>2</td>\n",
       "      <td>CAgN</td>\n",
       "      <td>silver cyanide</td>\n",
       "      <td>506-64-9</td>\n",
       "      <td>133.884</td>\n",
       "      <td>&gt;573.15</td>\n",
       "      <td>1</td>\n",
       "      <td>---</td>\n",
       "      <td>---</td>\n",
       "      <td>---</td>\n",
       "      <td>---</td>\n",
       "      <td>---</td>\n",
       "      <td>---</td>\n",
       "      <td>---</td>\n",
       "      <td>---</td>\n",
       "    </tr>\n",
       "    <tr>\n",
       "      <th>4</th>\n",
       "      <td>3</td>\n",
       "      <td>CAgNO</td>\n",
       "      <td>silver cyanate</td>\n",
       "      <td>3315-16-0</td>\n",
       "      <td>149.883</td>\n",
       "      <td>---</td>\n",
       "      <td>---</td>\n",
       "      <td>---</td>\n",
       "      <td>---</td>\n",
       "      <td>---</td>\n",
       "      <td>---</td>\n",
       "      <td>---</td>\n",
       "      <td>---</td>\n",
       "      <td>---</td>\n",
       "      <td>---</td>\n",
       "    </tr>\n",
       "    <tr>\n",
       "      <th>...</th>\n",
       "      <td>...</td>\n",
       "      <td>...</td>\n",
       "      <td>...</td>\n",
       "      <td>...</td>\n",
       "      <td>...</td>\n",
       "      <td>...</td>\n",
       "      <td>...</td>\n",
       "      <td>...</td>\n",
       "      <td>...</td>\n",
       "      <td>...</td>\n",
       "      <td>...</td>\n",
       "      <td>...</td>\n",
       "      <td>...</td>\n",
       "      <td>...</td>\n",
       "      <td>...</td>\n",
       "    </tr>\n",
       "    <tr>\n",
       "      <th>77</th>\n",
       "      <td>76</td>\n",
       "      <td>CCuNS</td>\n",
       "      <td>copper(i) thiocyanate</td>\n",
       "      <td>1111-67-7</td>\n",
       "      <td>121.630</td>\n",
       "      <td>1357.15</td>\n",
       "      <td>1</td>\n",
       "      <td>---</td>\n",
       "      <td>---</td>\n",
       "      <td>25</td>\n",
       "      <td>2.8500</td>\n",
       "      <td>1</td>\n",
       "      <td>---</td>\n",
       "      <td>---</td>\n",
       "      <td>---</td>\n",
       "    </tr>\n",
       "    <tr>\n",
       "      <th>78</th>\n",
       "      <td>77</td>\n",
       "      <td>CDCl3</td>\n",
       "      <td>trichloromethane-d</td>\n",
       "      <td>865-49-6</td>\n",
       "      <td>120.383</td>\n",
       "      <td>209.05</td>\n",
       "      <td>1</td>\n",
       "      <td>334.65</td>\n",
       "      <td>1,2</td>\n",
       "      <td>20</td>\n",
       "      <td>1.5004</td>\n",
       "      <td>1</td>\n",
       "      <td>20</td>\n",
       "      <td>1.4450</td>\n",
       "      <td>1</td>\n",
       "    </tr>\n",
       "    <tr>\n",
       "      <th>79</th>\n",
       "      <td>78</td>\n",
       "      <td>CD4</td>\n",
       "      <td>methane-d4</td>\n",
       "      <td>558-20-3</td>\n",
       "      <td>20.067</td>\n",
       "      <td>89.78</td>\n",
       "      <td>1</td>\n",
       "      <td>112.15</td>\n",
       "      <td>1,2</td>\n",
       "      <td>---</td>\n",
       "      <td>---</td>\n",
       "      <td>---</td>\n",
       "      <td>---</td>\n",
       "      <td>---</td>\n",
       "      <td>---</td>\n",
       "    </tr>\n",
       "    <tr>\n",
       "      <th>80</th>\n",
       "      <td>79</td>\n",
       "      <td>CD4O</td>\n",
       "      <td>methanol-d4</td>\n",
       "      <td>811-98-3</td>\n",
       "      <td>36.066</td>\n",
       "      <td>108.15</td>\n",
       "      <td>1</td>\n",
       "      <td>338.15</td>\n",
       "      <td>1,2</td>\n",
       "      <td>---</td>\n",
       "      <td>---</td>\n",
       "      <td>---</td>\n",
       "      <td>---</td>\n",
       "      <td>---</td>\n",
       "      <td>---</td>\n",
       "    </tr>\n",
       "    <tr>\n",
       "      <th>81</th>\n",
       "      <td>80</td>\n",
       "      <td>CFN</td>\n",
       "      <td>cyanogen fluoride</td>\n",
       "      <td>1495-50-7</td>\n",
       "      <td>45.017</td>\n",
       "      <td>191.15</td>\n",
       "      <td>1</td>\n",
       "      <td>227.15</td>\n",
       "      <td>1,2</td>\n",
       "      <td>---</td>\n",
       "      <td>---</td>\n",
       "      <td>---</td>\n",
       "      <td>---</td>\n",
       "      <td>---</td>\n",
       "      <td>---</td>\n",
       "    </tr>\n",
       "  </tbody>\n",
       "</table>\n",
       "<p>82 rows × 15 columns</p>\n",
       "</div>"
      ],
      "text/plain": [
       "     0         1                                 2          3        4  \\\n",
       "0                                                               Mol Wt   \n",
       "1   NO   FORMULA                              NAME     CAS No    g/mol   \n",
       "2    1  CAgF3O3S  silver trifluoromethanesulfonate  2923-28-6  256.937   \n",
       "3    2      CAgN                    silver cyanide   506-64-9  133.884   \n",
       "4    3     CAgNO                    silver cyanate  3315-16-0  149.883   \n",
       "..  ..       ...                               ...        ...      ...   \n",
       "77  76     CCuNS             copper(i) thiocyanate  1111-67-7  121.630   \n",
       "78  77     CDCl3                trichloromethane-d   865-49-6  120.383   \n",
       "79  78       CD4                        methane-d4   558-20-3   20.067   \n",
       "80  79      CD4O                       methanol-d4   811-98-3   36.066   \n",
       "81  80       CFN                 cyanogen fluoride  1495-50-7   45.017   \n",
       "\n",
       "                 5     6              7     8        9      10    11  \\\n",
       "0   Freezing Point        Boiling Point        Density                 \n",
       "1            TF, K  code          TB, K  code     T, C   g/cm3  code   \n",
       "2           629.15     1            ---   ---      ---     ---   ---   \n",
       "3          >573.15     1            ---   ---      ---     ---   ---   \n",
       "4              ---   ---            ---   ---      ---     ---   ---   \n",
       "..             ...   ...            ...   ...      ...     ...   ...   \n",
       "77         1357.15     1            ---   ---       25  2.8500     1   \n",
       "78          209.05     1         334.65   1,2       20  1.5004     1   \n",
       "79           89.78     1         112.15   1,2      ---     ---   ---   \n",
       "80          108.15     1         338.15   1,2      ---     ---   ---   \n",
       "81          191.15     1         227.15   1,2      ---     ---   ---   \n",
       "\n",
       "                  12      13    14  \n",
       "0   Refractive Index                \n",
       "1               T, C      nD  code  \n",
       "2                ---     ---   ---  \n",
       "3                ---     ---   ---  \n",
       "4                ---     ---   ---  \n",
       "..               ...     ...   ...  \n",
       "77               ---     ---   ---  \n",
       "78                20  1.4450     1  \n",
       "79               ---     ---   ---  \n",
       "80               ---     ---   ---  \n",
       "81               ---     ---   ---  \n",
       "\n",
       "[82 rows x 15 columns]"
      ]
     },
     "execution_count": 6,
     "metadata": {},
     "output_type": "execute_result"
    }
   ],
   "source": [
    "trial_data = trial_table[0].df\n",
    "trial_data"
   ]
  },
  {
   "cell_type": "markdown",
   "metadata": {},
   "source": [
    "This is pretty good! We just need to clean up the column labels a bit. It looks like the first two rows are going to be detected as data rather than labels."
   ]
  },
  {
   "cell_type": "markdown",
   "metadata": {},
   "source": [
    "## Helper functions\n",
    "These functions will streamline 2 key processes:\n",
    "* Scrape the data table from one PDF page using Camelot. Return results as a dataframe.\n",
    "* Clean & write the data: drop unnecessary rows/columns, handle missing values, etc.), then write it to an SQL database\n",
    "\n",
    "For the sake of both memory management & preventing data loss during unforeseen failures, we'll read one page at a time, extracting the data and saving it to the SQL database before moving on to the next page."
   ]
  },
  {
   "cell_type": "code",
   "execution_count": 7,
   "metadata": {},
   "outputs": [],
   "source": [
    "def get_table(page_num_as_str):\n",
    "    \n",
    "    # Get the crude data table.\n",
    "    scraped_table_list = camelot.read_pdf(\"yaws2015.pdf\", pages = page_num_as_str)\n",
    "    \n",
    "    # There should be exactly 1 table detected per page. If not, print an error\n",
    "    # and move on using only the first table found.\n",
    "    if len(scraped_table_list) != 1:\n",
    "        print(\"Possible error reading page: \", page_num_as_str)\n",
    "        \n",
    "    return scraped_table_list[0].df"
   ]
  },
  {
   "cell_type": "code",
   "execution_count": 8,
   "metadata": {},
   "outputs": [],
   "source": [
    "# Specify the column & row numbers to drop from each raw dataframe.\n",
    "# These were identified using the exploratory scraping above.\n",
    "drop_cols = [0, 4, 9, 10, 11, 12, 13, 14]\n",
    "drop_rows = [0, 1]\n",
    "\n",
    "# Specify more informative column headers.\n",
    "col_labels = [\"Formula\", \"Name\", \"CAS No\", \"Melt Pt (K)\", \"Melt Pt (code)\", \"Boil Pt (K)\", \"Boil Pt (code)\"]\n",
    "\n",
    "# Specify which columns should be forced to numeric data.\n",
    "numeric_cols = [\"Melt Pt (K)\", \"Melt Pt (code)\", \"Boil Pt (K)\", \"Boil Pt (code)\"]\n",
    "\n",
    "# Create a database connection via SQLAlchemy.\n",
    "db_engine = create_engine(\"sqlite:///physical_properties.db\")\n",
    "\n",
    "def clean_and_write(raw_dataframe):\n",
    "    \n",
    "    # Drop unwanted rows and columns.\n",
    "    clean_dataframe = raw_dataframe.drop(drop_cols, axis = 1)\n",
    "    clean_dataframe = clean_dataframe.drop(drop_rows, axis = 0)\n",
    "    \n",
    "    # Rename the remaining columns.\n",
    "    clean_dataframe.columns = col_labels\n",
    "    \n",
    "    # Force selected columns to numeric data. Incompatible entries such as\n",
    "    # \">100\" or the missing value indicator \"---\" are converted to NaN.\n",
    "    for col in numeric_cols:\n",
    "        clean_dataframe[col] = pd.to_numeric(clean_dataframe[col], errors = \"coerce\")\n",
    "        \n",
    "    # Write the data to the SQLite database.\n",
    "    clean_dataframe.to_sql(\"yaws_2015\", con = db_engine, if_exists = \"append\")\n",
    "    \n",
    "    return"
   ]
  },
  {
   "cell_type": "markdown",
   "metadata": {},
   "source": [
    "## Collect the data!\n",
    "Using the helper functions above, scrape the data of interest from the PDF file."
   ]
  },
  {
   "cell_type": "code",
   "execution_count": 9,
   "metadata": {},
   "outputs": [
    {
     "name": "stdout",
     "output_type": "stream",
     "text": [
      "Tally-ho. All done with this batch.\n"
     ]
    }
   ],
   "source": [
    "for page_num in range(3, 684, 1):\n",
    "    \n",
    "    # Cast the page number as a string, ultimately as required by Camelot.\n",
    "    page_num = str(page_num)\n",
    "    \n",
    "    # Scrape the data, then clean & write to the database.\n",
    "    raw_data = get_table(page_num)\n",
    "    clean_and_write(raw_data)\n",
    "    \n",
    "    # Print a friendly message.\n",
    "    print(\"Completed page {}.\".format(page_num), end = \"\\r\")\n",
    "    \n",
    "print(\"Tally-ho. All done with this batch.\")"
   ]
  }
 ],
 "metadata": {
  "kernelspec": {
   "display_name": "Python 3",
   "language": "python",
   "name": "python3"
  },
  "language_info": {
   "codemirror_mode": {
    "name": "ipython",
    "version": 3
   },
   "file_extension": ".py",
   "mimetype": "text/x-python",
   "name": "python",
   "nbconvert_exporter": "python",
   "pygments_lexer": "ipython3",
   "version": "3.8.10"
  }
 },
 "nbformat": 4,
 "nbformat_minor": 4
}
